{
 "cells": [
  {
   "cell_type": "markdown",
   "metadata": {},
   "source": [
    "# 4 задание \n",
    "#### Подбор параметров динамической системы методом MCMC\n",
    "\n",
    "Требуется найти параметры системы Хищник-Жертва при помощи метода MCMC. \n",
    "Результатом является записная книжка Python Notebook в которой: \n",
    "\n",
    "1)Задаются параметры системы Хищник-Жертва \n",
    "\n",
    "2)Решается прямая задача и генерируются данные \n",
    "\n",
    "3)К данными применяется зашумление \n",
    "\n",
    "4)Методом MCMC оцениваются параметры системы по зашумленным данным "
   ]
  },
  {
   "cell_type": "markdown",
   "metadata": {},
   "source": [
    "# Решение\n",
    "Система Хищник-Жертва\n",
    "\n",
    "$ dx/dt = x ( \\alpha - \\beta y ) $\n",
    "\n",
    "$ dy/dt = -y( \\gamma - \\delta x ) $\n",
    "\n",
    " $\\alpha$  — коэффициент рождаемости жертв, x — величина популяции жертв, dx/dt  — скорость прироста популяции жертв,\n",
    " $\\gamma$  — коэффициент убыли хищников, y — величина популяции хищников, dy/dt — скорость прироста популяции хищников.\n",
    " \n",
    " При встречах хищников и жертв (частота которых прямо пропорциональна величине xy) происходит убийство жертв с коэффициентом $\\beta$ , сытые хищники способны к воспроизводству с коэффициентом $\\delta$ . "
   ]
  },
  {
   "cell_type": "code",
   "execution_count": 1,
   "metadata": {},
   "outputs": [],
   "source": [
    "import numpy\n",
    "import matplotlib.pyplot as plt\n",
    "%matplotlib inline"
   ]
  },
  {
   "cell_type": "code",
   "execution_count": 2,
   "metadata": {},
   "outputs": [],
   "source": [
    "# Задаются параметры системы Хищник-Жертва\n",
    "alpha = 1.\n",
    "beta = 1.2\n",
    "gamma = 4.\n",
    "delta = 1."
   ]
  },
  {
   "cell_type": "code",
   "execution_count": 3,
   "metadata": {},
   "outputs": [],
   "source": [
    "#define the time stepping scheme - euler forward, as used in earlier lessons\n",
    "def euler_step(u, f, dt):\n",
    "    \"\"\"Returns the solution at the next time-step using Euler's method.\n",
    "    \n",
    "    Parameters\n",
    "    ----------\n",
    "    u : array of float\n",
    "        solution at the previous time-step.\n",
    "    f : function\n",
    "        function to compute the right hand-side of the system of equation.\n",
    "    dt : float\n",
    "        time-increment.\n",
    "    \n",
    "    Returns\n",
    "    -------\n",
    "    u_n_plus_1 : array of float\n",
    "        approximate solution at the next time step.\n",
    "    \"\"\"\n",
    "    \n",
    "    return u + dt * f(u)"
   ]
  },
  {
   "cell_type": "code",
   "execution_count": 4,
   "metadata": {},
   "outputs": [],
   "source": [
    "# define the function that represents the Lotka-Volterra equations\n",
    "def f(u):\n",
    "    \"\"\"Returns the rate of change of species numbers.\n",
    "    \n",
    "    Parameters\n",
    "    ----------\n",
    "    u : array of float\n",
    "        array containing the solution at time n.\n",
    "        \n",
    "    Returns\n",
    "    -------\n",
    "    dudt : array of float\n",
    "        array containing the RHS given u.\n",
    "    \"\"\"\n",
    "    x = u[0]\n",
    "    y = u[1]\n",
    "    return numpy.array([x*(alpha - beta*y), -y*(gamma - delta*x)])"
   ]
  },
  {
   "cell_type": "code",
   "execution_count": 5,
   "metadata": {},
   "outputs": [],
   "source": [
    "# set time-increment and discretize the time\n",
    "T  = 15.0                           # final time\n",
    "dt = 0.01                           # set time-increment\n",
    "N  = int(T/dt) + 1                  # number of time-steps\n",
    "x0 = 10.\n",
    "y0 = 2.\n",
    "t0 = 0.\n",
    "\n",
    "# set initial conditions\n",
    "u_euler = numpy.empty((N, 2))\n",
    "\n",
    "# initialize the array containing the solution for each time-step\n",
    "u_euler[0] = numpy.array([x0, y0])\n",
    "\n",
    "# use a for loop to call the function rk2_step()\n",
    "for n in range(N-1):\n",
    "    \n",
    "    u_euler[n+1] = euler_step(u_euler[n], f, dt)"
   ]
  },
  {
   "cell_type": "code",
   "execution_count": 6,
   "metadata": {},
   "outputs": [],
   "source": [
    "time = numpy.linspace(0.0, T,N)\n",
    "x_euler = u_euler[:,0]\n",
    "y_euler = u_euler[:,1]"
   ]
  },
  {
   "cell_type": "code",
   "execution_count": 11,
   "metadata": {},
   "outputs": [
    {
     "data": {
      "text/plain": [
       "Text(0.5, 1.0, 'модель Хищник-Жертва')"
      ]
     },
     "execution_count": 11,
     "metadata": {},
     "output_type": "execute_result"
    },
    {
     "data": {
      "image/png": "[encoded data removed]",
      "text/plain": [
       "<Figure size 432x288 with 1 Axes>"
      ]
     },
     "metadata": {
      "needs_background": "light"
     },
     "output_type": "display_data"
    }
   ],
   "source": [
    "plt.plot(time, x_euler, label = 'жертва ')\n",
    "plt.plot(time, y_euler, label = 'хищник ')\n",
    "plt.legend(loc='upper right')\n",
    "#labels\n",
    "plt.xlabel(\"время\")\n",
    "plt.ylabel(\"кол-во каждого вида\")\n",
    "#title\n",
    "plt.title(\"модель Хищник-Жертва\")\n",
    "\n",
    "\n"
   ]
  },
  {
   "cell_type": "code",
   "execution_count": null,
   "metadata": {},
   "outputs": [],
   "source": []
  },
  {
   "cell_type": "code",
   "execution_count": null,
   "metadata": {},
   "outputs": [],
   "source": []
  },
  {
   "cell_type": "code",
   "execution_count": null,
   "metadata": {},
   "outputs": [],
   "source": []
  }
 ],
 "metadata": {
  "kernelspec": {
   "display_name": "Python 3",
   "language": "python",
   "name": "python3"
  },
  "language_info": {
   "codemirror_mode": {
    "name": "ipython",
    "version": 3
   },
   "file_extension": ".py",
   "mimetype": "text/x-python",
   "name": "python",
   "nbconvert_exporter": "python",
   "pygments_lexer": "ipython3",
   "version": "3.8.3"
  }
 },
 "nbformat": 4,
 "nbformat_minor": 4
}
