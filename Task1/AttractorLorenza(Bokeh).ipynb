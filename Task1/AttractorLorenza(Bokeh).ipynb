{
 "cells": [
  {
   "cell_type": "markdown",
   "metadata": {},
   "source": [
    "##  Формулы динамической системы\n",
    "# *Аттрактор Лоренца*"
   ]
  },
  {
   "cell_type": "markdown",
   "metadata": {},
   "source": [
    "\\begin{align}\n",
    "\\dot{x} & = \\sigma(y-x) \\\\\n",
    "\\dot{y} & = \\rho x - y - xz \\\\\n",
    "\\dot{z} & = -\\beta z + xy\n",
    "\\end{align}\n"
   ]
  },
  {
   "cell_type": "code",
   "execution_count": 2,
   "metadata": {},
   "outputs": [],
   "source": [
    "import numpy as np\n",
    "from numpy import linspace, array\n",
    "import matplotlib.pyplot as plt\n",
    "from scipy.integrate import solve_ivp\n",
    "from bokeh.plotting import figure,show\n",
    "from bokeh.io import  output_notebook"
   ]
  },
  {
   "cell_type": "code",
   "execution_count": 26,
   "metadata": {},
   "outputs": [],
   "source": [
    "#значения параметров\n",
    "s=10.0\n",
    "r=28.0 \n",
    "b=8.0/3.0\n",
    "#Аттрактор Лоренца\n",
    "def lorenz(t,xyz):\n",
    "    x, y, z = xyz\n",
    "    x_dot = s*(y - x)\n",
    "    y_dot = r*x - y - x*z\n",
    "    z_dot = x*y - b*z\n",
    "    return [x_dot, y_dot, z_dot]\n",
    "#начальное условие\n",
    "y0 = [0, 1, 0]\n",
    "\n",
    "solution = solve_ivp(lorenz, [0, 40], y0, t_eval = linspace(0, 40, 5000))\n",
    "# x и y проекция\n",
    "p = figure( title = 'Проекции траектории Аттрактор Лоренца', x_axis_label = 'X ось', y_axis_label = 'Y ось' ) \n",
    "p.line(solution.y[0], solution.y[1],line_width=1.2, line_color='red')\n",
    "show(p)\n",
    "# x и z проекция\n",
    "p = figure( title = 'Проекции траектории Аттрактор Лоренца', x_axis_label = 'X ось', y_axis_label = 'Z ось' ) \n",
    "p.line(solution.y[0], solution.y[2], line_width=1.2, line_color='blue')\n",
    "show(p)\n",
    "# y и z проекция\n",
    "p = figure( title = 'Проекции траектории Аттрактор Лоренца', x_axis_label = 'Y ось', y_axis_label = 'Z ось' ) \n",
    "p.line(solution.y[1], solution.y[2], line_width=1.2, line_color='green')\n",
    "show(p)\n",
    "\n"
   ]
  },
  {
   "cell_type": "markdown",
   "metadata": {},
   "source": [
    "Выполнила Брындина Анна"
   ]
  },
  {
   "cell_type": "code",
   "execution_count": null,
   "metadata": {},
   "outputs": [],
   "source": []
  }
 ],
 "metadata": {
  "kernelspec": {
   "display_name": "Python 3",
   "language": "python",
   "name": "python3"
  },
  "language_info": {
   "codemirror_mode": {
    "name": "ipython",
    "version": 3
   },
   "file_extension": ".py",
   "mimetype": "text/x-python",
   "name": "python",
   "nbconvert_exporter": "python",
   "pygments_lexer": "ipython3",
   "version": "3.8.3"
  }
 },
 "nbformat": 4,
 "nbformat_minor": 4
}
